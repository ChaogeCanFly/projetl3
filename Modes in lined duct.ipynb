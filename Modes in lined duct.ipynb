{
 "metadata": {
  "name": "Modes in lined duct"
 },
 "nbformat": 3,
 "nbformat_minor": 0,
 "worksheets": [
  {
   "cells": [
    {
     "cell_type": "markdown",
     "metadata": {},
     "source": [
      "Modes in lined duct\n",
      "===================\n",
      "\n",
      "This is a draft ipython notebook to be run with pylab and sympy installed.\n",
      "\n",
      "It has to be considered as some kind of draft paper stack with small computation in it (from equation simplification to quickly-jotted simulations).\n",
      "\n",
      "All final versions of simulations found here will be available under GNU/Octave or MATLab *via* dedicated scripts. This notebook is like a buffer between my mind and the rest of the world about this project.\n",
      "\n",
      "\n",
      "Enjoy.\n",
      "\n",
      "**PS:** As much as i can, i'll try to write in english here. This way, the langage used for explanations will match the one used for computations."
     ]
    },
    {
     "cell_type": "markdown",
     "metadata": {},
     "source": [
      "I - [Solving] Modes on duct with non-rigid boundary conditions\n",
      "==============================================================\n",
      "\n",
      "A) Problem position\n",
      "-------------------\n",
      "\n",
      "Let us consider an infinite 2D duct in which the general pressure term would be :\n",
      "\n",
      "$$\n",
      "p(\\vec{r}, t) = p(\\vec{r})e^{j\\omega t}\n",
      "$$\n",
      "\n",
      "Width $L$ of the duct is of the same under of magnitude than $\\lambda$ (wavelength) ($kL \\approx \\mathcal{O}(1)$, with $k = \\frac{\\omega}{c}$).\n",
      "\n",
      "Propagation in the considered system does verify the Helmholtz equation :\n",
      "\n",
      "$$\\Delta p + k^2p = 0$$\n",
      "\n",
      "### Conditions\n",
      "\n",
      "- Sommerfeld condition\n",
      "- Boundary conditions :\n",
      "\n",
      "$$\\left. \\frac{\\partial p}{\\partial y} \\right|_{y=0} = 0$$\n",
      "\n",
      "$$ \\left. \\frac{\\partial p}{\\partial y} \\right|_{y=L} = -j k Y p$$\n",
      "\n",
      "B) General solution without boundary conditions\n",
      "-----------------------------------------------\n",
      "\n",
      "$$p(\\vec{r}, t) = \\left[Ae^{-jk_xx} + Be^{jk_xx}\\right]\\left[Ce^{-jk_yy} + De^{jk_yy}\\right]e^{j\\omega t}$$\n",
      "$$k_x = \\sqrt{k^2-k_y^2}$$\n",
      "\n",
      "In the folowing, we will try to solve equations with boundary conditions with or without Sympy depending on the case.\n",
      "\n",
      "### Sommerfeld Condition\n",
      "\n",
      "$$B=0 \\Rightarrow p(\\vec{r}, t) = \\left[Ce^{-jk_yy} + De^{jk_yy}\\right]Ae^{j(\\omega t - k_xx)}$$\n",
      "\n",
      "If $A$ is distributed into $C$ and $D$, we obtain :\n",
      "\n",
      "$$p(\\vec{r}, t) = \\left[Ce^{-jk_yy} + De^{jk_yy}\\right]e^{j(\\omega t - k_xx)}$$"
     ]
    },
    {
     "cell_type": "code",
     "collapsed": false,
     "input": [],
     "language": "python",
     "metadata": {},
     "outputs": []
    }
   ],
   "metadata": {}
  }
 ]
}